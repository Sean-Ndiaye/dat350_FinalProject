{
 "cells": [
  {
   "cell_type": "markdown",
   "metadata": {},
   "source": [
    "Dataset: Diabetes Risk Prediction:\n",
    "https://www.kaggle.com/datasets/rcratos/diabetes-risk-prediction\n",
    "\n",
    "Target: Finding out how likely It is/the risk someone will get diabetes based on different factors."
   ]
  },
  {
   "cell_type": "code",
   "execution_count": 29,
   "metadata": {},
   "outputs": [],
   "source": [
    "# import libraries\n",
    "import pandas as pd\n",
    "import matplotlib.pyplot as plt\n",
    "import seaborn as sns\n",
    "import numpy as np"
   ]
  },
  {
   "cell_type": "markdown",
   "metadata": {},
   "source": [
    "1. Exploring the dataset"
   ]
  },
  {
   "cell_type": "code",
   "execution_count": 30,
   "metadata": {},
   "outputs": [
    {
     "data": {
      "text/html": [
       "<div>\n",
       "<style scoped>\n",
       "    .dataframe tbody tr th:only-of-type {\n",
       "        vertical-align: middle;\n",
       "    }\n",
       "\n",
       "    .dataframe tbody tr th {\n",
       "        vertical-align: top;\n",
       "    }\n",
       "\n",
       "    .dataframe thead th {\n",
       "        text-align: right;\n",
       "    }\n",
       "</style>\n",
       "<table border=\"1\" class=\"dataframe\">\n",
       "  <thead>\n",
       "    <tr style=\"text-align: right;\">\n",
       "      <th></th>\n",
       "      <th>Age</th>\n",
       "      <th>Gender</th>\n",
       "      <th>Polyuria</th>\n",
       "      <th>Polydipsia</th>\n",
       "      <th>sudden weight loss</th>\n",
       "      <th>weakness</th>\n",
       "      <th>Polyphagia</th>\n",
       "      <th>Genital thrush</th>\n",
       "      <th>visual blurring</th>\n",
       "      <th>Itching</th>\n",
       "      <th>Irritability</th>\n",
       "      <th>delayed healing</th>\n",
       "      <th>partial paresis</th>\n",
       "      <th>muscle stiffness</th>\n",
       "      <th>Alopecia</th>\n",
       "      <th>Obesity</th>\n",
       "      <th>class</th>\n",
       "    </tr>\n",
       "  </thead>\n",
       "  <tbody>\n",
       "    <tr>\n",
       "      <th>0</th>\n",
       "      <td>40</td>\n",
       "      <td>Male</td>\n",
       "      <td>No</td>\n",
       "      <td>Yes</td>\n",
       "      <td>No</td>\n",
       "      <td>Yes</td>\n",
       "      <td>No</td>\n",
       "      <td>No</td>\n",
       "      <td>No</td>\n",
       "      <td>Yes</td>\n",
       "      <td>No</td>\n",
       "      <td>Yes</td>\n",
       "      <td>No</td>\n",
       "      <td>Yes</td>\n",
       "      <td>Yes</td>\n",
       "      <td>Yes</td>\n",
       "      <td>Positive</td>\n",
       "    </tr>\n",
       "    <tr>\n",
       "      <th>1</th>\n",
       "      <td>58</td>\n",
       "      <td>Male</td>\n",
       "      <td>No</td>\n",
       "      <td>No</td>\n",
       "      <td>No</td>\n",
       "      <td>Yes</td>\n",
       "      <td>No</td>\n",
       "      <td>No</td>\n",
       "      <td>Yes</td>\n",
       "      <td>No</td>\n",
       "      <td>No</td>\n",
       "      <td>No</td>\n",
       "      <td>Yes</td>\n",
       "      <td>No</td>\n",
       "      <td>Yes</td>\n",
       "      <td>No</td>\n",
       "      <td>Positive</td>\n",
       "    </tr>\n",
       "    <tr>\n",
       "      <th>2</th>\n",
       "      <td>41</td>\n",
       "      <td>Male</td>\n",
       "      <td>Yes</td>\n",
       "      <td>No</td>\n",
       "      <td>No</td>\n",
       "      <td>Yes</td>\n",
       "      <td>Yes</td>\n",
       "      <td>No</td>\n",
       "      <td>No</td>\n",
       "      <td>Yes</td>\n",
       "      <td>No</td>\n",
       "      <td>Yes</td>\n",
       "      <td>No</td>\n",
       "      <td>Yes</td>\n",
       "      <td>Yes</td>\n",
       "      <td>No</td>\n",
       "      <td>Positive</td>\n",
       "    </tr>\n",
       "    <tr>\n",
       "      <th>3</th>\n",
       "      <td>45</td>\n",
       "      <td>Male</td>\n",
       "      <td>No</td>\n",
       "      <td>No</td>\n",
       "      <td>Yes</td>\n",
       "      <td>Yes</td>\n",
       "      <td>Yes</td>\n",
       "      <td>Yes</td>\n",
       "      <td>No</td>\n",
       "      <td>Yes</td>\n",
       "      <td>No</td>\n",
       "      <td>Yes</td>\n",
       "      <td>No</td>\n",
       "      <td>No</td>\n",
       "      <td>No</td>\n",
       "      <td>No</td>\n",
       "      <td>Positive</td>\n",
       "    </tr>\n",
       "    <tr>\n",
       "      <th>4</th>\n",
       "      <td>60</td>\n",
       "      <td>Male</td>\n",
       "      <td>Yes</td>\n",
       "      <td>Yes</td>\n",
       "      <td>Yes</td>\n",
       "      <td>Yes</td>\n",
       "      <td>Yes</td>\n",
       "      <td>No</td>\n",
       "      <td>Yes</td>\n",
       "      <td>Yes</td>\n",
       "      <td>Yes</td>\n",
       "      <td>Yes</td>\n",
       "      <td>Yes</td>\n",
       "      <td>Yes</td>\n",
       "      <td>Yes</td>\n",
       "      <td>Yes</td>\n",
       "      <td>Positive</td>\n",
       "    </tr>\n",
       "  </tbody>\n",
       "</table>\n",
       "</div>"
      ],
      "text/plain": [
       "   Age Gender Polyuria Polydipsia sudden weight loss weakness Polyphagia  \\\n",
       "0   40   Male       No        Yes                 No      Yes         No   \n",
       "1   58   Male       No         No                 No      Yes         No   \n",
       "2   41   Male      Yes         No                 No      Yes        Yes   \n",
       "3   45   Male       No         No                Yes      Yes        Yes   \n",
       "4   60   Male      Yes        Yes                Yes      Yes        Yes   \n",
       "\n",
       "  Genital thrush visual blurring Itching Irritability delayed healing  \\\n",
       "0             No              No     Yes           No             Yes   \n",
       "1             No             Yes      No           No              No   \n",
       "2             No              No     Yes           No             Yes   \n",
       "3            Yes              No     Yes           No             Yes   \n",
       "4             No             Yes     Yes          Yes             Yes   \n",
       "\n",
       "  partial paresis muscle stiffness Alopecia Obesity     class  \n",
       "0              No              Yes      Yes     Yes  Positive  \n",
       "1             Yes               No      Yes      No  Positive  \n",
       "2              No              Yes      Yes      No  Positive  \n",
       "3              No               No       No      No  Positive  \n",
       "4             Yes              Yes      Yes     Yes  Positive  "
      ]
     },
     "execution_count": 30,
     "metadata": {},
     "output_type": "execute_result"
    }
   ],
   "source": [
    "# load in the data\n",
    "\n",
    "rawDF = pd.read_csv(\"diabetes_risk_prediction_dataset.csv\")\n",
    "\n",
    "rawDF.head()"
   ]
  },
  {
   "cell_type": "code",
   "execution_count": 31,
   "metadata": {},
   "outputs": [
    {
     "data": {
      "text/html": [
       "<div>\n",
       "<style scoped>\n",
       "    .dataframe tbody tr th:only-of-type {\n",
       "        vertical-align: middle;\n",
       "    }\n",
       "\n",
       "    .dataframe tbody tr th {\n",
       "        vertical-align: top;\n",
       "    }\n",
       "\n",
       "    .dataframe thead th {\n",
       "        text-align: right;\n",
       "    }\n",
       "</style>\n",
       "<table border=\"1\" class=\"dataframe\">\n",
       "  <thead>\n",
       "    <tr style=\"text-align: right;\">\n",
       "      <th></th>\n",
       "      <th>Age</th>\n",
       "    </tr>\n",
       "  </thead>\n",
       "  <tbody>\n",
       "    <tr>\n",
       "      <th>count</th>\n",
       "      <td>520.000000</td>\n",
       "    </tr>\n",
       "    <tr>\n",
       "      <th>mean</th>\n",
       "      <td>48.028846</td>\n",
       "    </tr>\n",
       "    <tr>\n",
       "      <th>std</th>\n",
       "      <td>12.151466</td>\n",
       "    </tr>\n",
       "    <tr>\n",
       "      <th>min</th>\n",
       "      <td>16.000000</td>\n",
       "    </tr>\n",
       "    <tr>\n",
       "      <th>25%</th>\n",
       "      <td>39.000000</td>\n",
       "    </tr>\n",
       "    <tr>\n",
       "      <th>50%</th>\n",
       "      <td>47.500000</td>\n",
       "    </tr>\n",
       "    <tr>\n",
       "      <th>75%</th>\n",
       "      <td>57.000000</td>\n",
       "    </tr>\n",
       "    <tr>\n",
       "      <th>max</th>\n",
       "      <td>90.000000</td>\n",
       "    </tr>\n",
       "  </tbody>\n",
       "</table>\n",
       "</div>"
      ],
      "text/plain": [
       "              Age\n",
       "count  520.000000\n",
       "mean    48.028846\n",
       "std     12.151466\n",
       "min     16.000000\n",
       "25%     39.000000\n",
       "50%     47.500000\n",
       "75%     57.000000\n",
       "max     90.000000"
      ]
     },
     "execution_count": 31,
     "metadata": {},
     "output_type": "execute_result"
    }
   ],
   "source": [
    "rawDF.describe()"
   ]
  },
  {
   "cell_type": "code",
   "execution_count": 32,
   "metadata": {},
   "outputs": [
    {
     "data": {
      "text/plain": [
       "class\n",
       "Positive    320\n",
       "Negative    200\n",
       "Name: count, dtype: int64"
      ]
     },
     "execution_count": 32,
     "metadata": {},
     "output_type": "execute_result"
    }
   ],
   "source": [
    "rawDF[\"class\"].value_counts()"
   ]
  },
  {
   "cell_type": "markdown",
   "metadata": {},
   "source": [
    "2. Handling Missing Values (if applicable)"
   ]
  },
  {
   "cell_type": "code",
   "execution_count": 33,
   "metadata": {},
   "outputs": [
    {
     "data": {
      "text/plain": [
       "Age                   0\n",
       "Gender                0\n",
       "Polyuria              0\n",
       "Polydipsia            0\n",
       "sudden weight loss    0\n",
       "weakness              0\n",
       "Polyphagia            0\n",
       "Genital thrush        0\n",
       "visual blurring       0\n",
       "Itching               0\n",
       "Irritability          0\n",
       "delayed healing       0\n",
       "partial paresis       0\n",
       "muscle stiffness      0\n",
       "Alopecia              0\n",
       "Obesity               0\n",
       "class                 0\n",
       "dtype: int64"
      ]
     },
     "execution_count": 33,
     "metadata": {},
     "output_type": "execute_result"
    }
   ],
   "source": [
    "rawDF.isna().sum()"
   ]
  },
  {
   "cell_type": "markdown",
   "metadata": {},
   "source": [
    "None. (phew)"
   ]
  },
  {
   "cell_type": "markdown",
   "metadata": {},
   "source": [
    "Making visualizations of the distribution of each column."
   ]
  },
  {
   "cell_type": "markdown",
   "metadata": {},
   "source": [
    "Age:"
   ]
  },
  {
   "cell_type": "code",
   "execution_count": 34,
   "metadata": {},
   "outputs": [
    {
     "data": {
      "text/plain": [
       "<Axes: xlabel='Age', ylabel='Count'>"
      ]
     },
     "execution_count": 34,
     "metadata": {},
     "output_type": "execute_result"
    },
    {
     "data": {
      "image/png": "[encoded data removed]",
      "text/plain": [
       "<Figure size 500x300 with 1 Axes>"
      ]
     },
     "metadata": {},
     "output_type": "display_data"
    }
   ],
   "source": [
    "plt.figure(figsize=(5,3))\n",
    "sns.histplot(rawDF['Age'], kde=True)\n"
   ]
  },
  {
   "cell_type": "markdown",
   "metadata": {},
   "source": [
    "Gender"
   ]
  },
  {
   "cell_type": "code",
   "execution_count": 35,
   "metadata": {},
   "outputs": [
    {
     "data": {
      "text/plain": [
       "<Axes: xlabel='Gender', ylabel='count'>"
      ]
     },
     "execution_count": 35,
     "metadata": {},
     "output_type": "execute_result"
    },
    {
     "data": {
      "image/png": "[encoded data removed]",
      "text/plain": [
       "<Figure size 300x200 with 1 Axes>"
      ]
     },
     "metadata": {},
     "output_type": "display_data"
    }
   ],
   "source": [
    "plt.figure(figsize=(3,2))\n",
    "sns.countplot(x='Gender', data=rawDF)"
   ]
  },
  {
   "cell_type": "markdown",
   "metadata": {},
   "source": [
    "Polyuria (Excessive Urination)"
   ]
  },
  {
   "cell_type": "code",
   "execution_count": 36,
   "metadata": {},
   "outputs": [
    {
     "data": {
      "text/plain": [
       "<Axes: xlabel='Polyuria', ylabel='count'>"
      ]
     },
     "execution_count": 36,
     "metadata": {},
     "output_type": "execute_result"
    },
    {
     "data": {
      "image/png": "[encoded data removed]",
      "text/plain": [
       "<Figure size 300x200 with 1 Axes>"
      ]
     },
     "metadata": {},
     "output_type": "display_data"
    }
   ],
   "source": [
    "plt.figure(figsize=(3,2))\n",
    "sns.countplot(x='Polyuria', data=rawDF)"
   ]
  },
  {
   "cell_type": "markdown",
   "metadata": {},
   "source": [
    "Polydipsia (Excessive Thirst)"
   ]
  },
  {
   "cell_type": "code",
   "execution_count": 37,
   "metadata": {},
   "outputs": [
    {
     "data": {
      "text/plain": [
       "<Axes: xlabel='Polydipsia', ylabel='count'>"
      ]
     },
     "execution_count": 37,
     "metadata": {},
     "output_type": "execute_result"
    },
    {
     "data": {
      "image/png": "[encoded data removed]",
      "text/plain": [
       "<Figure size 300x200 with 1 Axes>"
      ]
     },
     "metadata": {},
     "output_type": "display_data"
    }
   ],
   "source": [
    "plt.figure(figsize=(3,2))\n",
    "sns.countplot(x='Polydipsia', data=rawDF)"
   ]
  },
  {
   "cell_type": "markdown",
   "metadata": {},
   "source": [
    "sudden weight loss"
   ]
  },
  {
   "cell_type": "code",
   "execution_count": 38,
   "metadata": {},
   "outputs": [
    {
     "data": {
      "text/plain": [
       "<Axes: xlabel='sudden weight loss', ylabel='count'>"
      ]
     },
     "execution_count": 38,
     "metadata": {},
     "output_type": "execute_result"
    },
    {
     "data": {
      "image/png": "[encoded data removed]",
      "text/plain": [
       "<Figure size 300x200 with 1 Axes>"
      ]
     },
     "metadata": {},
     "output_type": "display_data"
    }
   ],
   "source": [
    "plt.figure(figsize=(3,2))\n",
    "sns.countplot(x='sudden weight loss', data=rawDF)"
   ]
  },
  {
   "cell_type": "markdown",
   "metadata": {},
   "source": [
    "weakness (general)"
   ]
  },
  {
   "cell_type": "code",
   "execution_count": 39,
   "metadata": {},
   "outputs": [
    {
     "data": {
      "text/plain": [
       "<Axes: xlabel='weakness', ylabel='count'>"
      ]
     },
     "execution_count": 39,
     "metadata": {},
     "output_type": "execute_result"
    },
    {
     "data": {
      "image/png": "[encoded data removed]",
      "text/plain": [
       "<Figure size 300x200 with 1 Axes>"
      ]
     },
     "metadata": {},
     "output_type": "display_data"
    }
   ],
   "source": [
    "plt.figure(figsize=(3,2))\n",
    "sns.countplot(x='weakness', data=rawDF)"
   ]
  },
  {
   "cell_type": "markdown",
   "metadata": {},
   "source": [
    "Polyphagia (excessive hunger)"
   ]
  },
  {
   "cell_type": "code",
   "execution_count": 40,
   "metadata": {},
   "outputs": [
    {
     "data": {
      "text/plain": [
       "<Axes: xlabel='Polyphagia', ylabel='count'>"
      ]
     },
     "execution_count": 40,
     "metadata": {},
     "output_type": "execute_result"
    },
    {
     "data": {
      "image/png": "[encoded data removed]",
      "text/plain": [
       "<Figure size 300x200 with 1 Axes>"
      ]
     },
     "metadata": {},
     "output_type": "display_data"
    }
   ],
   "source": [
    "plt.figure(figsize=(3,2))\n",
    "sns.countplot(x='Polyphagia', data=rawDF)"
   ]
  },
  {
   "cell_type": "markdown",
   "metadata": {},
   "source": [
    "Genital Thrush (yeast infection)"
   ]
  },
  {
   "cell_type": "code",
   "execution_count": 41,
   "metadata": {},
   "outputs": [
    {
     "data": {
      "text/plain": [
       "<Axes: xlabel='Genital thrush', ylabel='count'>"
      ]
     },
     "execution_count": 41,
     "metadata": {},
     "output_type": "execute_result"
    },
    {
     "data": {
      "image/png": "[encoded data removed]",
      "text/plain": [
       "<Figure size 300x200 with 1 Axes>"
      ]
     },
     "metadata": {},
     "output_type": "display_data"
    }
   ],
   "source": [
    "plt.figure(figsize=(3,2))\n",
    "sns.countplot(x='Genital thrush', data=rawDF)"
   ]
  },
  {
   "cell_type": "markdown",
   "metadata": {},
   "source": [
    "visual blurring"
   ]
  },
  {
   "cell_type": "code",
   "execution_count": 42,
   "metadata": {},
   "outputs": [
    {
     "data": {
      "text/plain": [
       "<Axes: xlabel='visual blurring', ylabel='count'>"
      ]
     },
     "execution_count": 42,
     "metadata": {},
     "output_type": "execute_result"
    },
    {
     "data": {
      "image/png": "[encoded data removed]",
      "text/plain": [
       "<Figure size 300x200 with 1 Axes>"
      ]
     },
     "metadata": {},
     "output_type": "display_data"
    }
   ],
   "source": [
    "plt.figure(figsize=(3,2))\n",
    "sns.countplot(x='visual blurring', data=rawDF)"
   ]
  },
  {
   "cell_type": "markdown",
   "metadata": {},
   "source": [
    "Itching"
   ]
  },
  {
   "cell_type": "code",
   "execution_count": 43,
   "metadata": {},
   "outputs": [
    {
     "data": {
      "text/plain": [
       "<Axes: xlabel='Itching', ylabel='count'>"
      ]
     },
     "execution_count": 43,
     "metadata": {},
     "output_type": "execute_result"
    },
    {
     "data": {
      "image/png": "[encoded data removed]",
      "text/plain": [
       "<Figure size 300x200 with 1 Axes>"
      ]
     },
     "metadata": {},
     "output_type": "display_data"
    }
   ],
   "source": [
    "plt.figure(figsize=(3,2))\n",
    "sns.countplot(x='Itching', data=rawDF)"
   ]
  },
  {
   "cell_type": "markdown",
   "metadata": {},
   "source": [
    "Irritability"
   ]
  },
  {
   "cell_type": "code",
   "execution_count": 44,
   "metadata": {},
   "outputs": [
    {
     "data": {
      "text/plain": [
       "<Axes: xlabel='Irritability', ylabel='count'>"
      ]
     },
     "execution_count": 44,
     "metadata": {},
     "output_type": "execute_result"
    },
    {
     "data": {
      "image/png": "[encoded data removed]",
      "text/plain": [
       "<Figure size 300x200 with 1 Axes>"
      ]
     },
     "metadata": {},
     "output_type": "display_data"
    }
   ],
   "source": [
    "plt.figure(figsize=(3,2))\n",
    "sns.countplot(x='Irritability', data=rawDF)"
   ]
  },
  {
   "cell_type": "markdown",
   "metadata": {},
   "source": [
    "delayed healing"
   ]
  },
  {
   "cell_type": "code",
   "execution_count": 45,
   "metadata": {},
   "outputs": [
    {
     "data": {
      "text/plain": [
       "<Axes: xlabel='delayed healing', ylabel='count'>"
      ]
     },
     "execution_count": 45,
     "metadata": {},
     "output_type": "execute_result"
    },
    {
     "data": {
      "image/png": "[encoded data removed]",
      "text/plain": [
       "<Figure size 300x200 with 1 Axes>"
      ]
     },
     "metadata": {},
     "output_type": "display_data"
    }
   ],
   "source": [
    "plt.figure(figsize=(3,2))\n",
    "sns.countplot(x='delayed healing', data=rawDF)"
   ]
  },
  {
   "cell_type": "markdown",
   "metadata": {},
   "source": [
    "partial paresis (partial paralysis of both legs)"
   ]
  },
  {
   "cell_type": "code",
   "execution_count": 46,
   "metadata": {},
   "outputs": [
    {
     "data": {
      "text/plain": [
       "<Axes: xlabel='partial paresis', ylabel='count'>"
      ]
     },
     "execution_count": 46,
     "metadata": {},
     "output_type": "execute_result"
    },
    {
     "data": {
      "image/png": "[encoded data removed]",
      "text/plain": [
       "<Figure size 300x200 with 1 Axes>"
      ]
     },
     "metadata": {},
     "output_type": "display_data"
    }
   ],
   "source": [
    "plt.figure(figsize=(3,2))\n",
    "sns.countplot(x='partial paresis', data=rawDF)"
   ]
  },
  {
   "cell_type": "markdown",
   "metadata": {},
   "source": [
    "muscle stiffness"
   ]
  },
  {
   "cell_type": "code",
   "execution_count": 47,
   "metadata": {},
   "outputs": [
    {
     "data": {
      "text/plain": [
       "<Axes: xlabel='muscle stiffness', ylabel='count'>"
      ]
     },
     "execution_count": 47,
     "metadata": {},
     "output_type": "execute_result"
    },
    {
     "data": {
      "image/png": "[encoded data removed]",
      "text/plain": [
       "<Figure size 300x200 with 1 Axes>"
      ]
     },
     "metadata": {},
     "output_type": "display_data"
    }
   ],
   "source": [
    "plt.figure(figsize=(3,2))\n",
    "sns.countplot(x='muscle stiffness', data=rawDF)"
   ]
  },
  {
   "cell_type": "markdown",
   "metadata": {},
   "source": [
    "Alopecia"
   ]
  },
  {
   "cell_type": "code",
   "execution_count": 48,
   "metadata": {},
   "outputs": [
    {
     "data": {
      "text/plain": [
       "<Axes: xlabel='Alopecia', ylabel='count'>"
      ]
     },
     "execution_count": 48,
     "metadata": {},
     "output_type": "execute_result"
    },
    {
     "data": {
      "image/png": "[encoded data removed]",
      "text/plain": [
       "<Figure size 300x200 with 1 Axes>"
      ]
     },
     "metadata": {},
     "output_type": "display_data"
    }
   ],
   "source": [
    "plt.figure(figsize=(3,2))\n",
    "sns.countplot(x='Alopecia', data=rawDF)"
   ]
  },
  {
   "cell_type": "markdown",
   "metadata": {},
   "source": [
    "Obesity"
   ]
  },
  {
   "cell_type": "code",
   "execution_count": 49,
   "metadata": {},
   "outputs": [
    {
     "data": {
      "text/plain": [
       "<Axes: xlabel='Obesity', ylabel='count'>"
      ]
     },
     "execution_count": 49,
     "metadata": {},
     "output_type": "execute_result"
    },
    {
     "data": {
      "image/png": "[encoded data removed]",
      "text/plain": [
       "<Figure size 300x200 with 1 Axes>"
      ]
     },
     "metadata": {},
     "output_type": "display_data"
    }
   ],
   "source": [
    "plt.figure(figsize=(3,2))\n",
    "sns.countplot(x='Obesity', data=rawDF)"
   ]
  },
  {
   "cell_type": "markdown",
   "metadata": {},
   "source": [
    "class (Diabetes or not)"
   ]
  },
  {
   "cell_type": "code",
   "execution_count": 50,
   "metadata": {},
   "outputs": [
    {
     "data": {
      "text/plain": [
       "<Axes: xlabel='class', ylabel='count'>"
      ]
     },
     "execution_count": 50,
     "metadata": {},
     "output_type": "execute_result"
    },
    {
     "data": {
      "image/png": "[encoded data removed]",
      "text/plain": [
       "<Figure size 300x200 with 1 Axes>"
      ]
     },
     "metadata": {},
     "output_type": "display_data"
    }
   ],
   "source": [
    "plt.figure(figsize=(3,2))\n",
    "sns.countplot(x='class', data=rawDF)"
   ]
  },
  {
   "cell_type": "markdown",
   "metadata": {},
   "source": [
    "4. Encoding Categorical Variables (which is pretty much all of them)"
   ]
  },
  {
   "cell_type": "code",
   "execution_count": 51,
   "metadata": {},
   "outputs": [
    {
     "data": {
      "text/plain": [
       "['Polyuria',\n",
       " 'Polydipsia',\n",
       " 'sudden weight loss',\n",
       " 'weakness',\n",
       " 'Polyphagia',\n",
       " 'Genital thrush',\n",
       " 'visual blurring',\n",
       " 'Itching',\n",
       " 'Irritability',\n",
       " 'delayed healing',\n",
       " 'partial paresis',\n",
       " 'muscle stiffness',\n",
       " 'Alopecia',\n",
       " 'Obesity',\n",
       " 'Gender']"
      ]
     },
     "execution_count": 51,
     "metadata": {},
     "output_type": "execute_result"
    }
   ],
   "source": [
    "categoricalCols = ['Polyuria', 'Polydipsia', 'sudden weight loss', 'weakness', 'Polyphagia', \n",
    "                  'Genital thrush', 'visual blurring', 'Itching', 'Irritability', \n",
    "                  'delayed healing', 'partial paresis', 'muscle stiffness', 'Alopecia', 'Obesity', 'Gender']\n",
    "\n",
    "categoricalCols"
   ]
  },
  {
   "cell_type": "code",
   "execution_count": 52,
   "metadata": {},
   "outputs": [
    {
     "data": {
      "text/html": [
       "<div>\n",
       "<style scoped>\n",
       "    .dataframe tbody tr th:only-of-type {\n",
       "        vertical-align: middle;\n",
       "    }\n",
       "\n",
       "    .dataframe tbody tr th {\n",
       "        vertical-align: top;\n",
       "    }\n",
       "\n",
       "    .dataframe thead th {\n",
       "        text-align: right;\n",
       "    }\n",
       "</style>\n",
       "<table border=\"1\" class=\"dataframe\">\n",
       "  <thead>\n",
       "    <tr style=\"text-align: right;\">\n",
       "      <th></th>\n",
       "      <th>Polyuria_No</th>\n",
       "      <th>Polyuria_Yes</th>\n",
       "      <th>Polydipsia_No</th>\n",
       "      <th>Polydipsia_Yes</th>\n",
       "      <th>sudden weight loss_No</th>\n",
       "      <th>sudden weight loss_Yes</th>\n",
       "      <th>weakness_No</th>\n",
       "      <th>weakness_Yes</th>\n",
       "      <th>Polyphagia_No</th>\n",
       "      <th>Polyphagia_Yes</th>\n",
       "      <th>...</th>\n",
       "      <th>partial paresis_Yes</th>\n",
       "      <th>muscle stiffness_No</th>\n",
       "      <th>muscle stiffness_Yes</th>\n",
       "      <th>Alopecia_No</th>\n",
       "      <th>Alopecia_Yes</th>\n",
       "      <th>Obesity_No</th>\n",
       "      <th>Obesity_Yes</th>\n",
       "      <th>Gender_Female</th>\n",
       "      <th>Gender_Male</th>\n",
       "      <th>class</th>\n",
       "    </tr>\n",
       "  </thead>\n",
       "  <tbody>\n",
       "    <tr>\n",
       "      <th>0</th>\n",
       "      <td>1.0</td>\n",
       "      <td>0.0</td>\n",
       "      <td>0.0</td>\n",
       "      <td>1.0</td>\n",
       "      <td>1.0</td>\n",
       "      <td>0.0</td>\n",
       "      <td>0.0</td>\n",
       "      <td>1.0</td>\n",
       "      <td>1.0</td>\n",
       "      <td>0.0</td>\n",
       "      <td>...</td>\n",
       "      <td>0.0</td>\n",
       "      <td>0.0</td>\n",
       "      <td>1.0</td>\n",
       "      <td>0.0</td>\n",
       "      <td>1.0</td>\n",
       "      <td>0.0</td>\n",
       "      <td>1.0</td>\n",
       "      <td>0.0</td>\n",
       "      <td>1.0</td>\n",
       "      <td>1</td>\n",
       "    </tr>\n",
       "    <tr>\n",
       "      <th>1</th>\n",
       "      <td>1.0</td>\n",
       "      <td>0.0</td>\n",
       "      <td>1.0</td>\n",
       "      <td>0.0</td>\n",
       "      <td>1.0</td>\n",
       "      <td>0.0</td>\n",
       "      <td>0.0</td>\n",
       "      <td>1.0</td>\n",
       "      <td>1.0</td>\n",
       "      <td>0.0</td>\n",
       "      <td>...</td>\n",
       "      <td>1.0</td>\n",
       "      <td>1.0</td>\n",
       "      <td>0.0</td>\n",
       "      <td>0.0</td>\n",
       "      <td>1.0</td>\n",
       "      <td>1.0</td>\n",
       "      <td>0.0</td>\n",
       "      <td>0.0</td>\n",
       "      <td>1.0</td>\n",
       "      <td>1</td>\n",
       "    </tr>\n",
       "    <tr>\n",
       "      <th>2</th>\n",
       "      <td>0.0</td>\n",
       "      <td>1.0</td>\n",
       "      <td>1.0</td>\n",
       "      <td>0.0</td>\n",
       "      <td>1.0</td>\n",
       "      <td>0.0</td>\n",
       "      <td>0.0</td>\n",
       "      <td>1.0</td>\n",
       "      <td>0.0</td>\n",
       "      <td>1.0</td>\n",
       "      <td>...</td>\n",
       "      <td>0.0</td>\n",
       "      <td>0.0</td>\n",
       "      <td>1.0</td>\n",
       "      <td>0.0</td>\n",
       "      <td>1.0</td>\n",
       "      <td>1.0</td>\n",
       "      <td>0.0</td>\n",
       "      <td>0.0</td>\n",
       "      <td>1.0</td>\n",
       "      <td>1</td>\n",
       "    </tr>\n",
       "    <tr>\n",
       "      <th>3</th>\n",
       "      <td>1.0</td>\n",
       "      <td>0.0</td>\n",
       "      <td>1.0</td>\n",
       "      <td>0.0</td>\n",
       "      <td>0.0</td>\n",
       "      <td>1.0</td>\n",
       "      <td>0.0</td>\n",
       "      <td>1.0</td>\n",
       "      <td>0.0</td>\n",
       "      <td>1.0</td>\n",
       "      <td>...</td>\n",
       "      <td>0.0</td>\n",
       "      <td>1.0</td>\n",
       "      <td>0.0</td>\n",
       "      <td>1.0</td>\n",
       "      <td>0.0</td>\n",
       "      <td>1.0</td>\n",
       "      <td>0.0</td>\n",
       "      <td>0.0</td>\n",
       "      <td>1.0</td>\n",
       "      <td>1</td>\n",
       "    </tr>\n",
       "    <tr>\n",
       "      <th>4</th>\n",
       "      <td>0.0</td>\n",
       "      <td>1.0</td>\n",
       "      <td>0.0</td>\n",
       "      <td>1.0</td>\n",
       "      <td>0.0</td>\n",
       "      <td>1.0</td>\n",
       "      <td>0.0</td>\n",
       "      <td>1.0</td>\n",
       "      <td>0.0</td>\n",
       "      <td>1.0</td>\n",
       "      <td>...</td>\n",
       "      <td>1.0</td>\n",
       "      <td>0.0</td>\n",
       "      <td>1.0</td>\n",
       "      <td>0.0</td>\n",
       "      <td>1.0</td>\n",
       "      <td>0.0</td>\n",
       "      <td>1.0</td>\n",
       "      <td>0.0</td>\n",
       "      <td>1.0</td>\n",
       "      <td>1</td>\n",
       "    </tr>\n",
       "  </tbody>\n",
       "</table>\n",
       "<p>5 rows × 31 columns</p>\n",
       "</div>"
      ],
      "text/plain": [
       "   Polyuria_No  Polyuria_Yes  Polydipsia_No  Polydipsia_Yes  \\\n",
       "0          1.0           0.0            0.0             1.0   \n",
       "1          1.0           0.0            1.0             0.0   \n",
       "2          0.0           1.0            1.0             0.0   \n",
       "3          1.0           0.0            1.0             0.0   \n",
       "4          0.0           1.0            0.0             1.0   \n",
       "\n",
       "   sudden weight loss_No  sudden weight loss_Yes  weakness_No  weakness_Yes  \\\n",
       "0                    1.0                     0.0          0.0           1.0   \n",
       "1                    1.0                     0.0          0.0           1.0   \n",
       "2                    1.0                     0.0          0.0           1.0   \n",
       "3                    0.0                     1.0          0.0           1.0   \n",
       "4                    0.0                     1.0          0.0           1.0   \n",
       "\n",
       "   Polyphagia_No  Polyphagia_Yes  ...  partial paresis_Yes  \\\n",
       "0            1.0             0.0  ...                  0.0   \n",
       "1            1.0             0.0  ...                  1.0   \n",
       "2            0.0             1.0  ...                  0.0   \n",
       "3            0.0             1.0  ...                  0.0   \n",
       "4            0.0             1.0  ...                  1.0   \n",
       "\n",
       "   muscle stiffness_No  muscle stiffness_Yes  Alopecia_No  Alopecia_Yes  \\\n",
       "0                  0.0                   1.0          0.0           1.0   \n",
       "1                  1.0                   0.0          0.0           1.0   \n",
       "2                  0.0                   1.0          0.0           1.0   \n",
       "3                  1.0                   0.0          1.0           0.0   \n",
       "4                  0.0                   1.0          0.0           1.0   \n",
       "\n",
       "   Obesity_No  Obesity_Yes  Gender_Female  Gender_Male  class  \n",
       "0         0.0          1.0            0.0          1.0      1  \n",
       "1         1.0          0.0            0.0          1.0      1  \n",
       "2         1.0          0.0            0.0          1.0      1  \n",
       "3         1.0          0.0            0.0          1.0      1  \n",
       "4         0.0          1.0            0.0          1.0      1  \n",
       "\n",
       "[5 rows x 31 columns]"
      ]
     },
     "execution_count": 52,
     "metadata": {},
     "output_type": "execute_result"
    }
   ],
   "source": [
    "from sklearn.preprocessing import OneHotEncoder\n",
    "\n",
    "#splitting target from features\n",
    "yDF = rawDF[\"class\"].map({'Positive': 1, 'Negative': 0})\n",
    "xDF = rawDF.drop(columns=[\"class\"])\n",
    "\n",
    "# instantiate and fit the one hot encoder\n",
    "encoder = OneHotEncoder(sparse_output=False)\n",
    "xDF_encoded = encoder.fit_transform(xDF[categoricalCols])\n",
    "encoderArray = encoder.fit_transform(rawDF[categoricalCols])\n",
    "colNames = encoder.get_feature_names_out(categoricalCols)\n",
    "xDF_encoded = pd.DataFrame(xDF_encoded, columns=colNames)\n",
    "\n",
    "# get the dataframe of the \n",
    "oneHotDF = pd.DataFrame(encoderArray, columns=colNames)\n",
    "\n",
    "#target variable 'class'\n",
    "oneHotDF['class'] = rawDF['class'].map({'Positive': 1, 'Negative': 0})\n",
    "\n",
    "oneHotDF.head()"
   ]
  },
  {
   "cell_type": "markdown",
   "metadata": {},
   "source": [
    "Machine Learning Models:"
   ]
  },
  {
   "cell_type": "markdown",
   "metadata": {},
   "source": [
    "Splitting target from features-"
   ]
  },
  {
   "cell_type": "code",
   "execution_count": 53,
   "metadata": {},
   "outputs": [
    {
     "data": {
      "text/html": [
       "<div>\n",
       "<style scoped>\n",
       "    .dataframe tbody tr th:only-of-type {\n",
       "        vertical-align: middle;\n",
       "    }\n",
       "\n",
       "    .dataframe tbody tr th {\n",
       "        vertical-align: top;\n",
       "    }\n",
       "\n",
       "    .dataframe thead th {\n",
       "        text-align: right;\n",
       "    }\n",
       "</style>\n",
       "<table border=\"1\" class=\"dataframe\">\n",
       "  <thead>\n",
       "    <tr style=\"text-align: right;\">\n",
       "      <th></th>\n",
       "      <th>class</th>\n",
       "    </tr>\n",
       "  </thead>\n",
       "  <tbody>\n",
       "    <tr>\n",
       "      <th>0</th>\n",
       "      <td>1</td>\n",
       "    </tr>\n",
       "    <tr>\n",
       "      <th>1</th>\n",
       "      <td>1</td>\n",
       "    </tr>\n",
       "    <tr>\n",
       "      <th>2</th>\n",
       "      <td>1</td>\n",
       "    </tr>\n",
       "    <tr>\n",
       "      <th>3</th>\n",
       "      <td>1</td>\n",
       "    </tr>\n",
       "    <tr>\n",
       "      <th>4</th>\n",
       "      <td>1</td>\n",
       "    </tr>\n",
       "    <tr>\n",
       "      <th>...</th>\n",
       "      <td>...</td>\n",
       "    </tr>\n",
       "    <tr>\n",
       "      <th>515</th>\n",
       "      <td>1</td>\n",
       "    </tr>\n",
       "    <tr>\n",
       "      <th>516</th>\n",
       "      <td>1</td>\n",
       "    </tr>\n",
       "    <tr>\n",
       "      <th>517</th>\n",
       "      <td>1</td>\n",
       "    </tr>\n",
       "    <tr>\n",
       "      <th>518</th>\n",
       "      <td>0</td>\n",
       "    </tr>\n",
       "    <tr>\n",
       "      <th>519</th>\n",
       "      <td>0</td>\n",
       "    </tr>\n",
       "  </tbody>\n",
       "</table>\n",
       "<p>520 rows × 1 columns</p>\n",
       "</div>"
      ],
      "text/plain": [
       "     class\n",
       "0        1\n",
       "1        1\n",
       "2        1\n",
       "3        1\n",
       "4        1\n",
       "..     ...\n",
       "515      1\n",
       "516      1\n",
       "517      1\n",
       "518      0\n",
       "519      0\n",
       "\n",
       "[520 rows x 1 columns]"
      ]
     },
     "execution_count": 53,
     "metadata": {},
     "output_type": "execute_result"
    }
   ],
   "source": [
    "pd.DataFrame(yDF)"
   ]
  },
  {
   "cell_type": "markdown",
   "metadata": {},
   "source": [
    "Splitting into testing and training sets"
   ]
  },
  {
   "cell_type": "code",
   "execution_count": 54,
   "metadata": {},
   "outputs": [],
   "source": [
    "from sklearn.model_selection import train_test_split\n",
    "\n",
    "nonCategoricalColumns = xDF.drop(columns='Age').columns\n",
    "\n",
    "xTrain, xTest, yTrain, yTest = train_test_split(\n",
    "    xDF, yDF, \n",
    "    test_size=0.2,\n",
    "    shuffle = True,\n",
    "    stratify = yDF)"
   ]
  },
  {
   "cell_type": "code",
   "execution_count": 55,
   "metadata": {},
   "outputs": [
    {
     "data": {
      "text/plain": [
       "(416, 16)"
      ]
     },
     "execution_count": 55,
     "metadata": {},
     "output_type": "execute_result"
    }
   ],
   "source": [
    "xTrain.shape"
   ]
  },
  {
   "cell_type": "code",
   "execution_count": 56,
   "metadata": {},
   "outputs": [
    {
     "data": {
      "text/plain": [
       "(416,)"
      ]
     },
     "execution_count": 56,
     "metadata": {},
     "output_type": "execute_result"
    }
   ],
   "source": [
    "yTrain.shape"
   ]
  },
  {
   "cell_type": "markdown",
   "metadata": {},
   "source": [
    "Scaling age and concatenating it:"
   ]
  },
  {
   "cell_type": "code",
   "execution_count": 70,
   "metadata": {},
   "outputs": [
    {
     "name": "stdout",
     "output_type": "stream",
     "text": [
      "   Polyuria_No  Polyuria_Yes  Polydipsia_No  Polydipsia_Yes  \\\n",
      "0          1.0           0.0            0.0             1.0   \n",
      "1          1.0           0.0            1.0             0.0   \n",
      "2          0.0           1.0            1.0             0.0   \n",
      "3          1.0           0.0            1.0             0.0   \n",
      "4          0.0           1.0            0.0             1.0   \n",
      "\n",
      "   sudden weight loss_No  sudden weight loss_Yes  weakness_No  weakness_Yes  \\\n",
      "0                    1.0                     0.0          0.0           1.0   \n",
      "1                    1.0                     0.0          0.0           1.0   \n",
      "2                    1.0                     0.0          0.0           1.0   \n",
      "3                    0.0                     1.0          0.0           1.0   \n",
      "4                    0.0                     1.0          0.0           1.0   \n",
      "\n",
      "   Polyphagia_No  Polyphagia_Yes  ...  partial paresis_Yes  \\\n",
      "0            1.0             0.0  ...                  0.0   \n",
      "1            1.0             0.0  ...                  1.0   \n",
      "2            0.0             1.0  ...                  0.0   \n",
      "3            0.0             1.0  ...                  0.0   \n",
      "4            0.0             1.0  ...                  1.0   \n",
      "\n",
      "   muscle stiffness_No  muscle stiffness_Yes  Alopecia_No  Alopecia_Yes  \\\n",
      "0                  0.0                   1.0          0.0           1.0   \n",
      "1                  1.0                   0.0          0.0           1.0   \n",
      "2                  0.0                   1.0          0.0           1.0   \n",
      "3                  1.0                   0.0          1.0           0.0   \n",
      "4                  0.0                   1.0          0.0           1.0   \n",
      "\n",
      "   Obesity_No  Obesity_Yes  Gender_Female  Gender_Male       Age  \n",
      "0         0.0          1.0            0.0          1.0  1.778657  \n",
      "1         1.0          0.0            0.0          1.0 -0.956429  \n",
      "2         1.0          0.0            0.0          1.0 -1.439092  \n",
      "3         1.0          0.0            0.0          1.0  1.376438  \n",
      "4         0.0          1.0            0.0          1.0  0.008895  \n",
      "\n",
      "[5 rows x 31 columns]\n"
     ]
    }
   ],
   "source": [
    "from sklearn.preprocessing import StandardScaler\n",
    "\n",
    "numerical_features = ['Age']\n",
    "categorical_features = [col for col in xTrain.columns if col not in numerical_features]\n",
    "\n",
    "xScaler = StandardScaler()\n",
    "xScaler_age = xScaler.fit_transform(xTrain[numerical_features])\n",
    "\n",
    "scaled_Age_df = pd.DataFrame(xScaler_age, columns=numerical_features)\n",
    "# train the scaler and apply it to the training set\n",
    "xDF_Final = pd.concat([xDF_encoded, scaled_Age_df], axis=1)\n",
    "\n",
    "print(xDF_Final.head())"
   ]
  },
  {
   "cell_type": "markdown",
   "metadata": {},
   "source": [
    "Finding best hyperparameters/kfold cross validation:"
   ]
  },
  {
   "cell_type": "code",
   "execution_count": 58,
   "metadata": {},
   "outputs": [
    {
     "data": {
      "text/plain": [
       "(416, 1)"
      ]
     },
     "execution_count": 58,
     "metadata": {},
     "output_type": "execute_result"
    }
   ],
   "source": [
    "scaled_Age_df.shape"
   ]
  },
  {
   "cell_type": "markdown",
   "metadata": {},
   "source": [
    "xtrain = scaled_Age_df"
   ]
  },
  {
   "cell_type": "markdown",
   "metadata": {},
   "source": [
    "Logistic Regression:"
   ]
  },
  {
   "cell_type": "code",
   "execution_count": 59,
   "metadata": {},
   "outputs": [
    {
     "name": "stderr",
     "output_type": "stream",
     "text": [
      "/Users/sean/anaconda3/lib/python3.11/site-packages/sklearn/model_selection/_validation.py:547: FitFailedWarning: \n",
      "20 fits failed out of a total of 40.\n",
      "The score on these train-test partitions for these parameters will be set to nan.\n",
      "If these failures are not expected, you can try to debug them by setting error_score='raise'.\n",
      "\n",
      "Below are more details about the failures:\n",
      "--------------------------------------------------------------------------------\n",
      "20 fits failed with the following error:\n",
      "Traceback (most recent call last):\n",
      "  File \"/Users/sean/anaconda3/lib/python3.11/site-packages/sklearn/model_selection/_validation.py\", line 895, in _fit_and_score\n",
      "    estimator.fit(X_train, y_train, **fit_params)\n",
      "  File \"/Users/sean/anaconda3/lib/python3.11/site-packages/sklearn/base.py\", line 1474, in wrapper\n",
      "    return fit_method(estimator, *args, **kwargs)\n",
      "           ^^^^^^^^^^^^^^^^^^^^^^^^^^^^^^^^^^^^^^\n",
      "  File \"/Users/sean/anaconda3/lib/python3.11/site-packages/sklearn/linear_model/_logistic.py\", line 1172, in fit\n",
      "    solver = _check_solver(self.solver, self.penalty, self.dual)\n",
      "             ^^^^^^^^^^^^^^^^^^^^^^^^^^^^^^^^^^^^^^^^^^^^^^^^^^^\n",
      "  File \"/Users/sean/anaconda3/lib/python3.11/site-packages/sklearn/linear_model/_logistic.py\", line 67, in _check_solver\n",
      "    raise ValueError(\n",
      "ValueError: Solver lbfgs supports only 'l2' or None penalties, got l1 penalty.\n",
      "\n",
      "  warnings.warn(some_fits_failed_message, FitFailedWarning)\n",
      "/Users/sean/anaconda3/lib/python3.11/site-packages/sklearn/model_selection/_search.py:1051: UserWarning: One or more of the test scores are non-finite: [       nan 0.99607843        nan 0.99607843        nan 0.99607843\n",
      "        nan 0.99607843]\n",
      "  warnings.warn(\n"
     ]
    },
    {
     "data": {
      "text/plain": [
       "{'C': 1, 'penalty': 'l2'}"
      ]
     },
     "execution_count": 59,
     "metadata": {},
     "output_type": "execute_result"
    }
   ],
   "source": [
    "from sklearn.model_selection import GridSearchCV\n",
    "from sklearn.linear_model import LogisticRegression\n",
    "\n",
    "parameters = [{'penalty':['l1','l2'], \n",
    "              'C':[1, 10, 100, 1000]}]\n",
    "gridSearch = GridSearchCV(estimator = LogisticRegression(),  \n",
    "                           param_grid = parameters,\n",
    "                           scoring = 'recall',\n",
    "                           cv = 5,\n",
    "                           verbose=0)\n",
    "\n",
    "\n",
    "gridSearch.fit(scaled_Age_df, yTrain) \n",
    "\n",
    "logisticParams = gridSearch.best_params_\n",
    "\n",
    "logisticParams"
   ]
  },
  {
   "cell_type": "markdown",
   "metadata": {},
   "source": [
    "Support Vector Machine:"
   ]
  },
  {
   "cell_type": "code",
   "execution_count": 60,
   "metadata": {},
   "outputs": [
    {
     "data": {
      "text/plain": [
       "{'C': 1, 'gamma': 1, 'kernel': 'linear'}"
      ]
     },
     "execution_count": 60,
     "metadata": {},
     "output_type": "execute_result"
    }
   ],
   "source": [
    "from sklearn.svm import SVC\n",
    "\n",
    "parameters = {'C':[1,10,100,1000],\n",
    "              'gamma':[1,0.1,0.001,0.0001], \n",
    "              'kernel':['linear','rbf']}\n",
    "gridSearch = GridSearchCV(estimator = SVC(),  \n",
    "                           param_grid = parameters,\n",
    "                           scoring = 'recall',\n",
    "                           cv = 5,\n",
    "                           verbose=0)\n",
    "\n",
    "\n",
    "gridSearch.fit(scaled_Age_df, yTrain) \n",
    "\n",
    "svmParams = gridSearch.best_params_\n",
    "\n",
    "svmParams"
   ]
  },
  {
   "cell_type": "markdown",
   "metadata": {},
   "source": [
    "Neural Nets:"
   ]
  },
  {
   "cell_type": "code",
   "execution_count": 61,
   "metadata": {},
   "outputs": [
    {
     "data": {
      "text/plain": [
       "{'activation': 'relu',\n",
       " 'alpha': 0.0001,\n",
       " 'hidden_layer_sizes': 100,\n",
       " 'learning_rate': 'constant',\n",
       " 'max_iter': 1000,\n",
       " 'solver': 'adam'}"
      ]
     },
     "execution_count": 61,
     "metadata": {},
     "output_type": "execute_result"
    }
   ],
   "source": [
    "from sklearn.neural_network import MLPClassifier\n",
    "\n",
    "parameters = parameter_space = {\n",
    "    'max_iter': [1000],\n",
    "    'hidden_layer_sizes': [(50,50), (50,50,50), (100)],\n",
    "    'activation': ['relu'],\n",
    "    'solver': ['adam'],\n",
    "    'alpha': [0.0001, 0.05],\n",
    "    'learning_rate': ['constant','adaptive'],\n",
    "}\n",
    "gridSearch = GridSearchCV(estimator = MLPClassifier(),  \n",
    "                           param_grid = parameters,\n",
    "                           scoring = 'recall',\n",
    "                           cv = 5,\n",
    "                           verbose=0)\n",
    "\n",
    "\n",
    "gridSearch.fit(scaled_Age_df, yTrain) \n",
    "\n",
    "mlpParams = gridSearch.best_params_\n",
    "\n",
    "mlpParams"
   ]
  },
  {
   "cell_type": "markdown",
   "metadata": {},
   "source": [
    "Decision Tree:"
   ]
  },
  {
   "cell_type": "code",
   "execution_count": 62,
   "metadata": {},
   "outputs": [
    {
     "data": {
      "text/plain": [
       "{'criterion': 'entropy',\n",
       " 'max_depth': 50,\n",
       " 'max_features': 'sqrt',\n",
       " 'min_samples_leaf': 2,\n",
       " 'min_samples_split': 5,\n",
       " 'splitter': 'random'}"
      ]
     },
     "execution_count": 62,
     "metadata": {},
     "output_type": "execute_result"
    }
   ],
   "source": [
    "from sklearn.tree import DecisionTreeClassifier\n",
    "\n",
    "parameters = {'criterion': ['gini', 'entropy'],\n",
    "              'splitter': ['best', 'random'],\n",
    "              'max_depth': [None, 10, 20, 30, 40, 50],\n",
    "              'min_samples_split': [2, 5, 10],\n",
    "              'min_samples_leaf': [1, 2, 4],\n",
    "              'max_features': [None, 'sqrt', 'log2']}\n",
    "\n",
    "              \n",
    "gridSearch = GridSearchCV(estimator = DecisionTreeClassifier(),  \n",
    "                           param_grid = parameters,\n",
    "                           scoring = 'recall',\n",
    "                           cv = 5,\n",
    "                           verbose=0)\n",
    "\n",
    "\n",
    "gridSearch.fit(scaled_Age_df, yTrain) \n",
    "\n",
    "treeParams = gridSearch.best_params_\n",
    "\n",
    "treeParams"
   ]
  },
  {
   "cell_type": "markdown",
   "metadata": {},
   "source": [
    "K-NN:"
   ]
  },
  {
   "cell_type": "code",
   "execution_count": 64,
   "metadata": {},
   "outputs": [
    {
     "data": {
      "text/plain": [
       "{'algorithm': 'brute', 'n_neighbors': 9, 'p': 1, 'weights': 'uniform'}"
      ]
     },
     "execution_count": 64,
     "metadata": {},
     "output_type": "execute_result"
    }
   ],
   "source": [
    "from sklearn.neighbors import KNeighborsClassifier\n",
    "\n",
    "parameters = {'n_neighbors': [3, 5, 7, 9],\n",
    "                  'weights': ['uniform', 'distance'],\n",
    "                  'algorithm': ['auto', 'ball_tree', 'kd_tree', 'brute'],\n",
    "                  'p': [1, 2]}\n",
    "\n",
    "              \n",
    "gridSearch = GridSearchCV(estimator = KNeighborsClassifier(),  \n",
    "                           param_grid = parameters,\n",
    "                           scoring = 'recall',\n",
    "                           cv = 5,\n",
    "                           verbose=0)\n",
    "\n",
    "\n",
    "gridSearch.fit(scaled_Age_df, yTrain) \n",
    "\n",
    "knn_params = gridSearch.best_params_\n",
    "\n",
    "knn_params"
   ]
  },
  {
   "cell_type": "markdown",
   "metadata": {},
   "source": [
    "Random Forest:"
   ]
  },
  {
   "cell_type": "code",
   "execution_count": 65,
   "metadata": {},
   "outputs": [
    {
     "name": "stderr",
     "output_type": "stream",
     "text": [
      "/Users/sean/anaconda3/lib/python3.11/site-packages/sklearn/model_selection/_validation.py:547: FitFailedWarning: \n",
      "1080 fits failed out of a total of 3240.\n",
      "The score on these train-test partitions for these parameters will be set to nan.\n",
      "If these failures are not expected, you can try to debug them by setting error_score='raise'.\n",
      "\n",
      "Below are more details about the failures:\n",
      "--------------------------------------------------------------------------------\n",
      "1080 fits failed with the following error:\n",
      "Traceback (most recent call last):\n",
      "  File \"/Users/sean/anaconda3/lib/python3.11/site-packages/sklearn/model_selection/_validation.py\", line 895, in _fit_and_score\n",
      "    estimator.fit(X_train, y_train, **fit_params)\n",
      "  File \"/Users/sean/anaconda3/lib/python3.11/site-packages/sklearn/base.py\", line 1467, in wrapper\n",
      "    estimator._validate_params()\n",
      "  File \"/Users/sean/anaconda3/lib/python3.11/site-packages/sklearn/base.py\", line 666, in _validate_params\n",
      "    validate_parameter_constraints(\n",
      "  File \"/Users/sean/anaconda3/lib/python3.11/site-packages/sklearn/utils/_param_validation.py\", line 95, in validate_parameter_constraints\n",
      "    raise InvalidParameterError(\n",
      "sklearn.utils._param_validation.InvalidParameterError: The 'max_features' parameter of RandomForestClassifier must be an int in the range [1, inf), a float in the range (0.0, 1.0], a str among {'log2', 'sqrt'} or None. Got 'auto' instead.\n",
      "\n",
      "  warnings.warn(some_fits_failed_message, FitFailedWarning)\n",
      "/Users/sean/anaconda3/lib/python3.11/site-packages/sklearn/model_selection/_search.py:1051: UserWarning: One or more of the test scores are non-finite: [       nan        nan        nan        nan        nan        nan\n",
      "        nan        nan        nan        nan        nan        nan\n",
      "        nan        nan        nan        nan        nan        nan\n",
      "        nan        nan        nan        nan        nan        nan\n",
      "        nan        nan        nan 0.71862745 0.71862745 0.73831071\n",
      " 0.71485671 0.72647059 0.70701357 0.76960784 0.74615385 0.75392157\n",
      " 0.74607843 0.73438914 0.75399698 0.75007541 0.72262443 0.726546\n",
      " 0.73438914 0.73838612 0.726546   0.71078431 0.73438914 0.78144796\n",
      " 0.73431373 0.7224736  0.73431373 0.74215686 0.74223228 0.72254902\n",
      " 0.72254902 0.74223228 0.73831071 0.69917044 0.76568627 0.75399698\n",
      " 0.74208145 0.76184012 0.74992459 0.73039216 0.76968326 0.74223228\n",
      " 0.74607843 0.76576169 0.73046757 0.74615385 0.75776772 0.77352941\n",
      " 0.73039216 0.74208145 0.75392157 0.72269985 0.73031674 0.74215686\n",
      " 0.74600302 0.72639517 0.74607843        nan        nan        nan\n",
      "        nan        nan        nan        nan        nan        nan\n",
      "        nan        nan        nan        nan        nan        nan\n",
      "        nan        nan        nan        nan        nan        nan\n",
      "        nan        nan        nan        nan        nan        nan\n",
      " 0.726546   0.68348416 0.70309201 0.75007541 0.74230769 0.76960784\n",
      " 0.7147813  0.74607843 0.76176471 0.72662142 0.76960784 0.726546\n",
      " 0.73815988 0.77360483 0.77360483 0.773454   0.73046757 0.73815988\n",
      " 0.74230769 0.74607843 0.73815988 0.71877828 0.73431373 0.73431373\n",
      " 0.74984917 0.74223228 0.73046757 0.74215686 0.73446456 0.76176471\n",
      " 0.75791855 0.74615385 0.75007541 0.76168929 0.78921569 0.75784314\n",
      " 0.76968326 0.74622926 0.72262443 0.78137255 0.75784314 0.75799397\n",
      " 0.77352941 0.74607843 0.75399698 0.76960784 0.78144796 0.76176471\n",
      " 0.73431373 0.75       0.73815988 0.76168929 0.75384615 0.73431373\n",
      "        nan        nan        nan        nan        nan        nan\n",
      "        nan        nan        nan        nan        nan        nan\n",
      "        nan        nan        nan        nan        nan        nan\n",
      "        nan        nan        nan        nan        nan        nan\n",
      "        nan        nan        nan 0.73431373 0.73438914 0.70301659\n",
      " 0.73823529 0.74215686 0.73438914 0.76184012 0.75007541 0.75784314\n",
      " 0.75414781 0.73831071 0.75392157 0.73831071 0.73431373 0.75007541\n",
      " 0.70693816 0.72639517 0.72639517 0.70686275 0.73423831 0.72254902\n",
      " 0.72262443 0.74607843 0.74615385 0.72277526 0.73831071 0.73423831\n",
      " 0.76176471 0.73046757 0.75399698 0.76168929 0.74630468 0.70701357\n",
      " 0.76953243 0.76953243 0.74992459 0.76176471 0.74607843 0.74615385\n",
      " 0.73039216 0.71877828 0.726546   0.76968326 0.71862745 0.74215686\n",
      " 0.72631976 0.73431373 0.76953243 0.75392157 0.74992459 0.726546\n",
      " 0.7658371  0.76960784 0.75784314        nan        nan        nan\n",
      "        nan        nan        nan        nan        nan        nan\n",
      "        nan        nan        nan        nan        nan        nan\n",
      "        nan        nan        nan        nan        nan        nan\n",
      "        nan        nan        nan        nan        nan        nan\n",
      " 0.69532428 0.73438914 0.72662142 0.74607843 0.74223228 0.75784314\n",
      " 0.74223228 0.74215686 0.73039216 0.75799397 0.73438914 0.73438914\n",
      " 0.77745098 0.70294118 0.73431373 0.74992459 0.6913273  0.73431373\n",
      " 0.73823529 0.74607843 0.773454   0.74615385 0.74992459 0.70686275\n",
      " 0.75392157 0.74215686 0.73039216 0.71470588 0.71870287 0.74615385\n",
      " 0.73046757 0.72647059 0.75399698 0.73431373 0.74208145 0.76561086\n",
      " 0.71485671 0.71870287 0.74622926 0.72262443 0.75       0.72647059\n",
      " 0.72647059 0.72262443 0.73431373 0.75       0.73039216 0.76168929\n",
      " 0.74607843 0.73039216 0.773454   0.75369532 0.75784314 0.76568627\n",
      "        nan        nan        nan        nan        nan        nan\n",
      "        nan        nan        nan        nan        nan        nan\n",
      "        nan        nan        nan        nan        nan        nan\n",
      "        nan        nan        nan        nan        nan        nan\n",
      "        nan        nan        nan 0.74615385 0.70301659 0.72269985\n",
      " 0.75       0.75791855 0.73446456 0.76176471 0.74615385 0.73823529\n",
      " 0.73838612 0.72269985 0.75015083 0.75399698 0.74230769 0.73831071\n",
      " 0.7147813  0.76176471 0.75791855 0.72254902 0.74215686 0.73823529\n",
      " 0.73438914 0.72662142 0.73039216 0.72647059 0.75       0.74607843\n",
      " 0.69125189 0.7540724  0.73438914 0.69924585 0.74215686 0.73831071\n",
      " 0.75776772 0.72254902 0.73431373 0.726546   0.73046757 0.76184012\n",
      " 0.72647059 0.73831071 0.74223228 0.73039216 0.73838612 0.71470588\n",
      " 0.7341629  0.773454   0.73039216 0.73815988 0.73423831 0.75784314\n",
      " 0.76153846 0.76568627 0.76960784        nan        nan        nan\n",
      "        nan        nan        nan        nan        nan        nan\n",
      "        nan        nan        nan        nan        nan        nan\n",
      "        nan        nan        nan        nan        nan        nan\n",
      "        nan        nan        nan        nan        nan        nan\n",
      " 0.73831071 0.76960784 0.75799397 0.71862745 0.73431373 0.74223228\n",
      " 0.77745098 0.77745098 0.773454   0.75399698 0.73054299 0.74622926\n",
      " 0.73438914 0.78921569 0.76568627 0.73838612 0.78144796 0.76184012\n",
      " 0.72662142 0.74992459 0.74607843 0.773454   0.78514329 0.76960784\n",
      " 0.74208145 0.78914027 0.72647059 0.73438914 0.75791855 0.76184012\n",
      " 0.74600302 0.77360483 0.78144796 0.76960784 0.76968326 0.75392157\n",
      " 0.75776772 0.7775264  0.74215686 0.73838612 0.74223228 0.77352941\n",
      " 0.75384615 0.78129713 0.75392157 0.73423831 0.7658371  0.74992459\n",
      " 0.78137255 0.75784314 0.76960784 0.71877828 0.75784314 0.75392157\n",
      "        nan        nan        nan        nan        nan        nan\n",
      "        nan        nan        nan        nan        nan        nan\n",
      "        nan        nan        nan        nan        nan        nan\n",
      "        nan        nan        nan        nan        nan        nan\n",
      "        nan        nan        nan 0.7540724  0.73039216 0.73039216\n",
      " 0.73446456 0.75399698 0.75       0.75784314 0.73039216 0.75392157\n",
      " 0.72662142 0.7540724  0.73838612 0.71470588 0.74215686 0.76184012\n",
      " 0.7775264  0.74223228 0.73039216 0.7107089  0.73815988 0.73831071\n",
      " 0.70686275 0.74992459 0.73039216 0.76161388 0.73039216 0.74208145\n",
      " 0.70294118 0.73039216 0.75799397 0.7147813  0.76576169 0.71485671\n",
      " 0.71093514 0.74607843 0.75399698 0.73838612 0.71877828 0.75392157\n",
      " 0.75392157 0.75392157 0.74223228 0.74615385 0.73031674 0.73823529\n",
      " 0.75384615 0.74215686 0.73823529 0.76960784 0.7540724  0.726546\n",
      " 0.75761689 0.73031674 0.76953243        nan        nan        nan\n",
      "        nan        nan        nan        nan        nan        nan\n",
      "        nan        nan        nan        nan        nan        nan\n",
      "        nan        nan        nan        nan        nan        nan\n",
      "        nan        nan        nan        nan        nan        nan\n",
      " 0.75784314 0.70301659 0.69917044 0.71870287 0.73046757 0.69909502\n",
      " 0.75784314 0.72647059 0.72262443 0.71485671 0.75392157 0.73438914\n",
      " 0.71085973 0.75       0.74223228 0.7147813  0.73823529 0.74208145\n",
      " 0.72254902 0.75384615 0.74615385 0.72254902 0.71877828 0.73431373\n",
      " 0.73446456 0.72631976 0.76568627 0.75399698 0.71485671 0.726546\n",
      " 0.70309201 0.74223228 0.75784314 0.74607843 0.74208145 0.75384615\n",
      " 0.74223228 0.72277526 0.74215686 0.75791855 0.75791855 0.76176471\n",
      " 0.75776772 0.76960784 0.73031674 0.73815988 0.75384615 0.76568627\n",
      " 0.76953243 0.73039216 0.73039216 0.76945701 0.72254902 0.73808446]\n",
      "  warnings.warn(\n"
     ]
    },
    {
     "data": {
      "text/plain": [
       "{'criterion': 'gini',\n",
       " 'max_depth': 10,\n",
       " 'max_features': 'log2',\n",
       " 'min_samples_leaf': 1,\n",
       " 'min_samples_split': 10,\n",
       " 'n_estimators': 100}"
      ]
     },
     "execution_count": 65,
     "metadata": {},
     "output_type": "execute_result"
    }
   ],
   "source": [
    "from sklearn.ensemble import RandomForestClassifier\n",
    "\n",
    "parameters = {'n_estimators': [50, 100, 200],\n",
    "                 'criterion': ['gini', 'entropy'],\n",
    "                 'max_depth': [None, 10, 20, 30],\n",
    "                 'min_samples_split': [2, 5, 10],\n",
    "                 'min_samples_leaf': [1, 2, 4],\n",
    "                 'max_features': ['auto', 'sqrt', 'log2']}\n",
    "\n",
    "              \n",
    "gridSearch = GridSearchCV(estimator = RandomForestClassifier(),  \n",
    "                           param_grid = parameters,\n",
    "                           scoring = 'recall',\n",
    "                           cv = 5,\n",
    "                           verbose=0)\n",
    "\n",
    "\n",
    "gridSearch.fit(scaled_Age_df, yTrain) \n",
    "\n",
    "forr_params = gridSearch.best_params_\n",
    "\n",
    "forr_params"
   ]
  },
  {
   "cell_type": "markdown",
   "metadata": {},
   "source": [
    "ACTUAL regression scores:"
   ]
  },
  {
   "cell_type": "markdown",
   "metadata": {},
   "source": [
    "Logistic Regression:"
   ]
  },
  {
   "cell_type": "code",
   "execution_count": 72,
   "metadata": {},
   "outputs": [
    {
     "name": "stderr",
     "output_type": "stream",
     "text": [
      "/Users/sean/anaconda3/lib/python3.11/site-packages/sklearn/base.py:493: UserWarning: X does not have valid feature names, but LogisticRegression was fitted with feature names\n",
      "  warnings.warn(\n",
      "/Users/sean/anaconda3/lib/python3.11/site-packages/sklearn/base.py:493: UserWarning: X does not have valid feature names, but LogisticRegression was fitted with feature names\n",
      "  warnings.warn(\n",
      "/Users/sean/anaconda3/lib/python3.11/site-packages/sklearn/base.py:493: UserWarning: X does not have valid feature names, but LogisticRegression was fitted with feature names\n",
      "  warnings.warn(\n",
      "/Users/sean/anaconda3/lib/python3.11/site-packages/sklearn/base.py:493: UserWarning: X does not have valid feature names, but LogisticRegression was fitted with feature names\n",
      "  warnings.warn(\n",
      "/Users/sean/anaconda3/lib/python3.11/site-packages/sklearn/base.py:493: UserWarning: X does not have valid feature names, but LogisticRegression was fitted with feature names\n",
      "  warnings.warn(\n"
     ]
    },
    {
     "name": "stdout",
     "output_type": "stream",
     "text": [
      "Completed Fold 0\n",
      "    Accuracy=0.75    Recall=1.0    FScore=0.8571428571428571\n",
      "Completed Fold 1\n",
      "    Accuracy=0.6506024096385542    Recall=1.0    FScore=0.7883211678832117\n",
      "Completed Fold 2\n",
      "    Accuracy=0.6265060240963856    Recall=1.0    FScore=0.7703703703703704\n",
      "Completed Fold 3\n",
      "    Accuracy=0.6024096385542169    Recall=1.0    FScore=0.7518796992481203\n",
      "Completed Fold 4\n",
      "    Accuracy=0.5421686746987951    Recall=1.0    FScore=0.703125\n",
      "Mean accuracy score: 0.6343373493975903\n",
      "Mean f1 score: 0.774167818928912\n",
      "Mean precision score: 0.6343373493975903\n",
      "Mean recall score: 1.0\n"
     ]
    }
   ],
   "source": [
    "from sklearn.model_selection import StratifiedKFold\n",
    "from sklearn.metrics import f1_score, precision_score, recall_score, accuracy_score\n",
    "\n",
    "from sklearn.linear_model import LogisticRegression\n",
    "\n",
    "cv = StratifiedKFold(n_splits=5, shuffle=True, random_state=42)\n",
    "\n",
    "accuracyScores = []\n",
    "f1Scores = []\n",
    "precisionScores = []\n",
    "recallScores = []\n",
    "\n",
    "for i, (trainIndex, valIndex) in enumerate(cv.split(scaled_Age_df, yTrain)):\n",
    "\n",
    "    ### making training and validation sets\n",
    "    # Convert indices to list\n",
    "    trainIndex = trainIndex.tolist()\n",
    "    valIndex = valIndex.tolist()\n",
    "    \n",
    "    # Split the data into training and validation sets for this fold\n",
    "    xLocalTrain, xVal = scaled_Age_df.iloc[trainIndex], xDF.iloc[valIndex]\n",
    "    yLocalTrain, yVal = yTrain.iloc[trainIndex], yDF.iloc[valIndex]\n",
    "\n",
    "\n",
    "    ### feature scaling\n",
    "    xScaler = StandardScaler()\n",
    "    xColNames = xLocalTrain.columns.values.tolist()\n",
    "    # train the scaler and apply it to the training set\n",
    "    xTrainscScaled = xScaler.fit_transform(xLocalTrain[xColNames])\n",
    "    # apply the scaling to the validation set\n",
    "    xValScaled = xScaler.transform(xVal[xColNames])\n",
    "    \n",
    "\n",
    "    ### model training\n",
    "    # instantiate the model\n",
    "    clf = LogisticRegression(**logisticParams)\n",
    "    # Train the classifier on the training data\n",
    "    clf.fit(xLocalTrain, yLocalTrain)\n",
    "    \n",
    "    ### model prediction and evaluation\n",
    "    # Make predictions on the test data\n",
    "    yPred = clf.predict(xValScaled)\n",
    "\n",
    "    # Calculate metrics and store them\n",
    "    score = accuracy_score(yVal, yPred)\n",
    "    accuracyScores.append(score)\n",
    "\n",
    "    score = f1_score(yVal, yPred)\n",
    "    f1Scores.append(score)\n",
    "\n",
    "    score = precision_score(yVal, yPred)\n",
    "    precisionScores.append(score)\n",
    "\n",
    "    score = recall_score(yVal, yPred)\n",
    "    recallScores.append(score)\n",
    "\n",
    "    print(f\"Completed Fold {i}\")\n",
    "    print(f\"    Accuracy={accuracyScores[i]}    Recall={recallScores[i]}    FScore={f1Scores[i]}\")\n",
    "\n",
    "    ## Calculate the mean scores across all folds\n",
    "mean_score = sum(accuracyScores) / len(accuracyScores)\n",
    "print(\"Mean accuracy score:\", mean_score)\n",
    "\n",
    "mean_score = sum(f1Scores) / len(f1Scores)\n",
    "print(\"Mean f1 score:\", mean_score)\n",
    "\n",
    "mean_score = sum(precisionScores) / len(precisionScores)\n",
    "print(\"Mean precision score:\", mean_score)\n",
    "\n",
    "mean_score = sum(recallScores) / len(recallScores)\n",
    "print(\"Mean recall score:\", mean_score)\n"
   ]
  },
  {
   "cell_type": "markdown",
   "metadata": {},
   "source": [
    "Decision Tree:"
   ]
  },
  {
   "cell_type": "code",
   "execution_count": 84,
   "metadata": {},
   "outputs": [
    {
     "name": "stdout",
     "output_type": "stream",
     "text": [
      "Completed Fold 0\n",
      "    Accuracy=0.75    Recall=1.0    FScore=0.8571428571428571\n",
      "Completed Fold 1\n",
      "    Accuracy=0.6506024096385542    Recall=1.0    FScore=0.7883211678832117\n",
      "Completed Fold 2\n",
      "    Accuracy=0.6265060240963856    Recall=1.0    FScore=0.7703703703703704\n",
      "Completed Fold 3\n",
      "    Accuracy=0.6024096385542169    Recall=1.0    FScore=0.7518796992481203\n",
      "Completed Fold 4\n",
      "    Accuracy=0.5421686746987951    Recall=1.0    FScore=0.703125\n",
      "Mean accuracy score: 0.6343373493975903\n",
      "Mean f1 score: 0.774167818928912\n",
      "Mean precision score: 0.6343373493975903\n",
      "Mean recall score: 1.0\n"
     ]
    },
    {
     "name": "stderr",
     "output_type": "stream",
     "text": [
      "/Users/sean/anaconda3/lib/python3.11/site-packages/sklearn/base.py:493: UserWarning: X does not have valid feature names, but DecisionTreeClassifier was fitted with feature names\n",
      "  warnings.warn(\n",
      "/Users/sean/anaconda3/lib/python3.11/site-packages/sklearn/base.py:493: UserWarning: X does not have valid feature names, but DecisionTreeClassifier was fitted with feature names\n",
      "  warnings.warn(\n",
      "/Users/sean/anaconda3/lib/python3.11/site-packages/sklearn/base.py:493: UserWarning: X does not have valid feature names, but DecisionTreeClassifier was fitted with feature names\n",
      "  warnings.warn(\n",
      "/Users/sean/anaconda3/lib/python3.11/site-packages/sklearn/base.py:493: UserWarning: X does not have valid feature names, but DecisionTreeClassifier was fitted with feature names\n",
      "  warnings.warn(\n",
      "/Users/sean/anaconda3/lib/python3.11/site-packages/sklearn/base.py:493: UserWarning: X does not have valid feature names, but DecisionTreeClassifier was fitted with feature names\n",
      "  warnings.warn(\n"
     ]
    }
   ],
   "source": [
    "from sklearn.tree import DecisionTreeClassifier\n",
    "\n",
    "cv = StratifiedKFold(n_splits=5, shuffle=True, random_state=42)\n",
    "\n",
    "accuracyScores = []\n",
    "f1Scores = []\n",
    "precisionScores = []\n",
    "recallScores = []\n",
    "\n",
    "for i, (trainIndex, valIndex) in enumerate(cv.split(scaled_Age_df, yTrain)):\n",
    "\n",
    "    ### making training and validation sets\n",
    "    # Convert indices to list\n",
    "    trainIndex = trainIndex.tolist()\n",
    "    valIndex = valIndex.tolist()\n",
    "    \n",
    "    # Split the data into training and validation sets for this fold\n",
    "    xLocalTrain, xVal = scaled_Age_df.iloc[trainIndex], xDF.iloc[valIndex]\n",
    "    yLocalTrain, yVal = yTrain.iloc[trainIndex], yDF.iloc[valIndex]\n",
    "\n",
    "\n",
    "    ### feature scaling\n",
    "    xScaler = StandardScaler()\n",
    "    xColNames = xLocalTrain.columns.values.tolist()\n",
    "    # train the scaler and apply it to the training set\n",
    "    xTrainscScaled = xScaler.fit_transform(xLocalTrain[xColNames])\n",
    "    # apply the scaling to the validation set\n",
    "    xValScaled = xScaler.transform(xVal[xColNames])\n",
    "    \n",
    "\n",
    "    ### model training\n",
    "    # instantiate the model\n",
    "    clf = DecisionTreeClassifier(**treeParams)\n",
    "    # Train the classifier on the training data\n",
    "    clf.fit(xLocalTrain, yLocalTrain)\n",
    "    \n",
    "    ### model prediction and evaluation\n",
    "    # Make predictions on the test data\n",
    "    yPred = clf.predict(xValScaled)\n",
    "\n",
    "    # Calculate metrics and store them\n",
    "    score = accuracy_score(yVal, yPred)\n",
    "    accuracyScores.append(score)\n",
    "\n",
    "    score = f1_score(yVal, yPred)\n",
    "    f1Scores.append(score)\n",
    "\n",
    "    score = precision_score(yVal, yPred)\n",
    "    precisionScores.append(score)\n",
    "\n",
    "    score = recall_score(yVal, yPred)\n",
    "    recallScores.append(score)\n",
    "\n",
    "    print(f\"Completed Fold {i}\")\n",
    "    print(f\"    Accuracy={accuracyScores[i]}    Recall={recallScores[i]}    FScore={f1Scores[i]}\")\n",
    "\n",
    "    ## Calculate the mean scores across all folds\n",
    "mean_score = sum(accuracyScores) / len(accuracyScores)\n",
    "print(\"Mean accuracy score:\", mean_score)\n",
    "\n",
    "mean_score = sum(f1Scores) / len(f1Scores)\n",
    "print(\"Mean f1 score:\", mean_score)\n",
    "\n",
    "mean_score = sum(precisionScores) / len(precisionScores)\n",
    "print(\"Mean precision score:\", mean_score)\n",
    "\n",
    "mean_score = sum(recallScores) / len(recallScores)\n",
    "print(\"Mean recall score:\", mean_score)\n"
   ]
  },
  {
   "cell_type": "markdown",
   "metadata": {},
   "source": [
    "Support Vector Machine"
   ]
  },
  {
   "cell_type": "code",
   "execution_count": 74,
   "metadata": {},
   "outputs": [
    {
     "name": "stdout",
     "output_type": "stream",
     "text": [
      "Completed Fold 0\n",
      "    Accuracy=0.75    Recall=1.0    FScore=0.8571428571428571\n",
      "Completed Fold 1\n",
      "    Accuracy=0.6506024096385542    Recall=1.0    FScore=0.7883211678832117\n",
      "Completed Fold 2\n",
      "    Accuracy=0.6265060240963856    Recall=1.0    FScore=0.7703703703703704\n",
      "Completed Fold 3\n",
      "    Accuracy=0.6024096385542169    Recall=1.0    FScore=0.7518796992481203\n",
      "Completed Fold 4\n",
      "    Accuracy=0.5421686746987951    Recall=1.0    FScore=0.703125\n",
      "Mean accuracy score: 0.6343373493975903\n",
      "Mean f1 score: 0.774167818928912\n",
      "Mean precision score: 0.6343373493975903\n",
      "Mean recall score: 1.0\n"
     ]
    },
    {
     "name": "stderr",
     "output_type": "stream",
     "text": [
      "/Users/sean/anaconda3/lib/python3.11/site-packages/sklearn/base.py:493: UserWarning: X does not have valid feature names, but SVC was fitted with feature names\n",
      "  warnings.warn(\n",
      "/Users/sean/anaconda3/lib/python3.11/site-packages/sklearn/base.py:493: UserWarning: X does not have valid feature names, but SVC was fitted with feature names\n",
      "  warnings.warn(\n",
      "/Users/sean/anaconda3/lib/python3.11/site-packages/sklearn/base.py:493: UserWarning: X does not have valid feature names, but SVC was fitted with feature names\n",
      "  warnings.warn(\n",
      "/Users/sean/anaconda3/lib/python3.11/site-packages/sklearn/base.py:493: UserWarning: X does not have valid feature names, but SVC was fitted with feature names\n",
      "  warnings.warn(\n",
      "/Users/sean/anaconda3/lib/python3.11/site-packages/sklearn/base.py:493: UserWarning: X does not have valid feature names, but SVC was fitted with feature names\n",
      "  warnings.warn(\n"
     ]
    }
   ],
   "source": [
    "from sklearn.svm import SVC\n",
    "\n",
    "cv = StratifiedKFold(n_splits=5, shuffle=True, random_state=42)\n",
    "\n",
    "accuracyScores = []\n",
    "f1Scores = []\n",
    "precisionScores = []\n",
    "recallScores = []\n",
    "\n",
    "for i, (trainIndex, valIndex) in enumerate(cv.split(scaled_Age_df, yTrain)):\n",
    "\n",
    "    ### making training and validation sets\n",
    "    # Convert indices to list\n",
    "    trainIndex = trainIndex.tolist()\n",
    "    valIndex = valIndex.tolist()\n",
    "    \n",
    "    # Split the data into training and validation sets for this fold\n",
    "    xLocalTrain, xVal = scaled_Age_df.iloc[trainIndex], xDF.iloc[valIndex]\n",
    "    yLocalTrain, yVal = yTrain.iloc[trainIndex], yDF.iloc[valIndex]\n",
    "\n",
    "\n",
    "    ### feature scaling\n",
    "    xScaler = StandardScaler()\n",
    "    xColNames = xLocalTrain.columns.values.tolist()\n",
    "    # train the scaler and apply it to the training set\n",
    "    xTrainscScaled = xScaler.fit_transform(xLocalTrain[xColNames])\n",
    "    # apply the scaling to the validation set\n",
    "    xValScaled = xScaler.transform(xVal[xColNames])\n",
    "    \n",
    "\n",
    "    ### model training\n",
    "    # instantiate the model\n",
    "    clf = SVC(**svmParams)\n",
    "    # Train the classifier on the training data\n",
    "    clf.fit(xLocalTrain, yLocalTrain)\n",
    "    \n",
    "    ### model prediction and evaluation\n",
    "    # Make predictions on the test data\n",
    "    yPred = clf.predict(xValScaled)\n",
    "\n",
    "    # Calculate metrics and store them\n",
    "    score = accuracy_score(yVal, yPred)\n",
    "    accuracyScores.append(score)\n",
    "\n",
    "    score = f1_score(yVal, yPred)\n",
    "    f1Scores.append(score)\n",
    "\n",
    "    score = precision_score(yVal, yPred)\n",
    "    precisionScores.append(score)\n",
    "\n",
    "    score = recall_score(yVal, yPred)\n",
    "    recallScores.append(score)\n",
    "\n",
    "    print(f\"Completed Fold {i}\")\n",
    "    print(f\"    Accuracy={accuracyScores[i]}    Recall={recallScores[i]}    FScore={f1Scores[i]}\")\n",
    "\n",
    "    ## Calculate the mean scores across all folds\n",
    "mean_score = sum(accuracyScores) / len(accuracyScores)\n",
    "print(\"Mean accuracy score:\", mean_score)\n",
    "\n",
    "mean_score = sum(f1Scores) / len(f1Scores)\n",
    "print(\"Mean f1 score:\", mean_score)\n",
    "\n",
    "mean_score = sum(precisionScores) / len(precisionScores)\n",
    "print(\"Mean precision score:\", mean_score)\n",
    "\n",
    "mean_score = sum(recallScores) / len(recallScores)\n",
    "print(\"Mean recall score:\", mean_score)"
   ]
  },
  {
   "cell_type": "markdown",
   "metadata": {},
   "source": [
    "Neural Net:"
   ]
  },
  {
   "cell_type": "code",
   "execution_count": 91,
   "metadata": {},
   "outputs": [
    {
     "name": "stdout",
     "output_type": "stream",
     "text": [
      "Completed Fold 0\n",
      "    Accuracy=0.75    Recall=1.0    FScore=0.8571428571428571\n",
      "Completed Fold 1\n",
      "    Accuracy=0.6506024096385542    Recall=1.0    FScore=0.7883211678832117\n",
      "Completed Fold 2\n",
      "    Accuracy=0.6265060240963856    Recall=1.0    FScore=0.7703703703703704\n",
      "Completed Fold 3\n",
      "    Accuracy=0.6024096385542169    Recall=1.0    FScore=0.7518796992481203\n",
      "Completed Fold 4\n",
      "    Accuracy=0.5421686746987951    Recall=1.0    FScore=0.703125\n",
      "Mean accuracy score: 0.6343373493975903\n",
      "Mean f1 score: 0.774167818928912\n",
      "Mean precision score: 0.6343373493975903\n",
      "Mean recall score: 1.0\n"
     ]
    }
   ],
   "source": [
    "from sklearn.neural_network import MLPClassifier\n",
    "\n",
    "cv = StratifiedKFold(n_splits=5, shuffle=True, random_state=42)\n",
    "\n",
    "accuracyScores = []\n",
    "f1Scores = []\n",
    "precisionScores = []\n",
    "recallScores = []\n",
    "aucScores = []\n",
    "\n",
    "for i, (trainIndex, valIndex) in enumerate(cv.split(scaled_Age_df, yTrain)):\n",
    "\n",
    "    ### making training and validation sets\n",
    "    # Convert indices to list\n",
    "    trainIndex = trainIndex.tolist()\n",
    "    valIndex = valIndex.tolist()\n",
    "    \n",
    "    # Split the data into training and validation sets for this fold\n",
    "    xLocalTrain, xVal = scaled_Age_df.iloc[trainIndex], xDF.iloc[valIndex]\n",
    "    yLocalTrain, yVal = yTrain.iloc[trainIndex], yDF.iloc[valIndex]\n",
    "\n",
    "\n",
    "    ### feature scaling\n",
    "    xScaler = StandardScaler()\n",
    "    xColNames = xLocalTrain.columns.values.tolist()\n",
    "    # train the scaler and apply it to the training set\n",
    "    xTrainScaled = xScaler.fit_transform(xLocalTrain[xColNames])\n",
    "    # apply the scaling to the validation set\n",
    "    xValScaled = xScaler.transform(xVal[xColNames])\n",
    "\n",
    "    ### model training\n",
    "    # instantiate the model\n",
    "    clf = MLPClassifier(**mlpParams)\n",
    "    # Train the classifier on the training data\n",
    "    clf.fit(xTrainScaled, yLocalTrain)\n",
    "    \n",
    "    ### model prediction and evaluation\n",
    "    # Make predictions on the test data\n",
    "    yPred = clf.predict(xValScaled)\n",
    "\n",
    "    # Calculate metrics and store them\n",
    "    score = accuracy_score(yVal, yPred)\n",
    "    accuracyScores.append(score)\n",
    "\n",
    "    score = f1_score(yVal, yPred)\n",
    "    f1Scores.append(score)\n",
    "\n",
    "    score = precision_score(yVal, yPred)\n",
    "    precisionScores.append(score)\n",
    "\n",
    "    score = recall_score(yVal, yPred)\n",
    "    recallScores.append(score)\n",
    "\n",
    "    print(f\"Completed Fold {i}\")\n",
    "    print(f\"    Accuracy={accuracyScores[i]}    Recall={recallScores[i]}    FScore={f1Scores[i]}\")\n",
    "\n",
    "    ## Calculate the mean scores across all folds\n",
    "mean_score = sum(accuracyScores) / len(accuracyScores)\n",
    "print(\"Mean accuracy score:\", mean_score)\n",
    "\n",
    "mean_score = sum(f1Scores) / len(f1Scores)\n",
    "print(\"Mean f1 score:\", mean_score)\n",
    "\n",
    "mean_score = sum(precisionScores) / len(precisionScores)\n",
    "print(\"Mean precision score:\", mean_score)\n",
    "\n",
    "mean_score = sum(recallScores) / len(recallScores)\n",
    "print(\"Mean recall score:\", mean_score)"
   ]
  },
  {
   "cell_type": "markdown",
   "metadata": {},
   "source": [
    "KNN:"
   ]
  },
  {
   "cell_type": "code",
   "execution_count": 82,
   "metadata": {},
   "outputs": [
    {
     "name": "stdout",
     "output_type": "stream",
     "text": [
      "Completed Fold 0\n",
      "    Accuracy=0.75    Recall=1.0    FScore=0.8571428571428571\n",
      "Completed Fold 1\n",
      "    Accuracy=0.6506024096385542    Recall=1.0    FScore=0.7883211678832117\n",
      "Completed Fold 2\n",
      "    Accuracy=0.6265060240963856    Recall=1.0    FScore=0.7703703703703704\n",
      "Completed Fold 3\n",
      "    Accuracy=0.6024096385542169    Recall=1.0    FScore=0.7518796992481203\n",
      "Completed Fold 4\n",
      "    Accuracy=0.5421686746987951    Recall=1.0    FScore=0.703125\n",
      "Mean accuracy score: 0.6343373493975903\n",
      "Mean f1 score: 0.774167818928912\n",
      "Mean precision score: 0.6343373493975903\n",
      "Mean recall score: 1.0\n"
     ]
    }
   ],
   "source": [
    "from sklearn.neighbors import KNeighborsClassifier\n",
    "\n",
    "cv = StratifiedKFold(n_splits=5, shuffle=True, random_state=42)\n",
    "\n",
    "accuracyScores = []\n",
    "f1Scores = []\n",
    "precisionScores = []\n",
    "recallScores = []\n",
    "aucScores = []\n",
    "\n",
    "for i, (trainIndex, valIndex) in enumerate(cv.split(scaled_Age_df, yTrain)):\n",
    "\n",
    "    ### making training and validation sets\n",
    "    # Convert indices to list\n",
    "    trainIndex = trainIndex.tolist()\n",
    "    valIndex = valIndex.tolist()\n",
    "    \n",
    "    # Split the data into training and validation sets for this fold\n",
    "    xLocalTrain, xVal = scaled_Age_df.iloc[trainIndex], xDF.iloc[valIndex]\n",
    "    yLocalTrain, yVal = yTrain.iloc[trainIndex], yDF.iloc[valIndex]\n",
    "\n",
    "\n",
    "    ### feature scaling\n",
    "    xScaler = StandardScaler()\n",
    "    xColNames = xLocalTrain.columns.values.tolist()\n",
    "    # train the scaler and apply it to the training set\n",
    "    xTrainScaled = xScaler.fit_transform(xLocalTrain[xColNames])\n",
    "    # apply the scaling to the validation set\n",
    "    xValScaled = xScaler.transform(xVal[xColNames])\n",
    "\n",
    "    ### model training\n",
    "    # instantiate the model\n",
    "    clf = KNeighborsClassifier(**knn_params)\n",
    "    # Train the classifier on the training data\n",
    "    clf.fit(xTrainScaled, yLocalTrain)\n",
    "    \n",
    "    ### model prediction and evaluation\n",
    "    # Make predictions on the test data\n",
    "    yPred = clf.predict(xValScaled)\n",
    "\n",
    "    # Calculate metrics and store them\n",
    "    score = accuracy_score(yVal, yPred)\n",
    "    accuracyScores.append(score)\n",
    "\n",
    "    score = f1_score(yVal, yPred)\n",
    "    f1Scores.append(score)\n",
    "\n",
    "    score = precision_score(yVal, yPred)\n",
    "    precisionScores.append(score)\n",
    "\n",
    "    score = recall_score(yVal, yPred)\n",
    "    recallScores.append(score)\n",
    "\n",
    "    print(f\"Completed Fold {i}\")\n",
    "    print(f\"    Accuracy={accuracyScores[i]}    Recall={recallScores[i]}    FScore={f1Scores[i]}\")\n",
    "\n",
    "    ## Calculate the mean scores across all folds\n",
    "mean_score = sum(accuracyScores) / len(accuracyScores)\n",
    "print(\"Mean accuracy score:\", mean_score)\n",
    "\n",
    "mean_score = sum(f1Scores) / len(f1Scores)\n",
    "print(\"Mean f1 score:\", mean_score)\n",
    "\n",
    "mean_score = sum(precisionScores) / len(precisionScores)\n",
    "print(\"Mean precision score:\", mean_score)\n",
    "\n",
    "mean_score = sum(recallScores) / len(recallScores)\n",
    "print(\"Mean recall score:\", mean_score)"
   ]
  },
  {
   "cell_type": "markdown",
   "metadata": {},
   "source": [
    "Random Forest Classifier:"
   ]
  },
  {
   "cell_type": "code",
   "execution_count": 85,
   "metadata": {},
   "outputs": [
    {
     "name": "stdout",
     "output_type": "stream",
     "text": [
      "Completed Fold 0\n",
      "    Accuracy=0.75    Recall=1.0    FScore=0.8571428571428571\n",
      "Completed Fold 1\n",
      "    Accuracy=0.6506024096385542    Recall=1.0    FScore=0.7883211678832117\n",
      "Completed Fold 2\n",
      "    Accuracy=0.6265060240963856    Recall=1.0    FScore=0.7703703703703704\n",
      "Completed Fold 3\n",
      "    Accuracy=0.6024096385542169    Recall=1.0    FScore=0.7518796992481203\n",
      "Completed Fold 4\n",
      "    Accuracy=0.5421686746987951    Recall=1.0    FScore=0.703125\n",
      "Mean accuracy score: 0.6343373493975903\n",
      "Mean f1 score: 0.774167818928912\n",
      "Mean precision score: 0.6343373493975903\n",
      "Mean recall score: 1.0\n"
     ]
    }
   ],
   "source": [
    "from sklearn.ensemble import RandomForestClassifier\n",
    "\n",
    "cv = StratifiedKFold(n_splits=5, shuffle=True, random_state=42)\n",
    "\n",
    "accuracyScores = []\n",
    "f1Scores = []\n",
    "precisionScores = []\n",
    "recallScores = []\n",
    "aucScores = []\n",
    "\n",
    "for i, (trainIndex, valIndex) in enumerate(cv.split(scaled_Age_df, yTrain)):\n",
    "\n",
    "    ### making training and validation sets\n",
    "    # Convert indices to list\n",
    "    trainIndex = trainIndex.tolist()\n",
    "    valIndex = valIndex.tolist()\n",
    "    \n",
    "    # Split the data into training and validation sets for this fold\n",
    "    xLocalTrain, xVal = scaled_Age_df.iloc[trainIndex], xDF.iloc[valIndex]\n",
    "    yLocalTrain, yVal = yTrain.iloc[trainIndex], yDF.iloc[valIndex]\n",
    "\n",
    "\n",
    "    ### feature scaling\n",
    "    xScaler = StandardScaler()\n",
    "    xColNames = xLocalTrain.columns.values.tolist()\n",
    "    # train the scaler and apply it to the training set\n",
    "    xTrainScaled = xScaler.fit_transform(xLocalTrain[xColNames])\n",
    "    # apply the scaling to the validation set\n",
    "    xValScaled = xScaler.transform(xVal[xColNames])\n",
    "\n",
    "    ### model training\n",
    "    # instantiate the model\n",
    "    clf = RandomForestClassifier(**forr_params)\n",
    "    # Train the classifier on the training data\n",
    "    clf.fit(xTrainScaled, yLocalTrain)\n",
    "    \n",
    "    ### model prediction and evaluation\n",
    "    # Make predictions on the test data\n",
    "    yPred = clf.predict(xValScaled)\n",
    "\n",
    "    # Calculate metrics and store them\n",
    "    score = accuracy_score(yVal, yPred)\n",
    "    accuracyScores.append(score)\n",
    "\n",
    "    score = f1_score(yVal, yPred)\n",
    "    f1Scores.append(score)\n",
    "\n",
    "    score = precision_score(yVal, yPred)\n",
    "    precisionScores.append(score)\n",
    "\n",
    "    score = recall_score(yVal, yPred)\n",
    "    recallScores.append(score)\n",
    "\n",
    "    print(f\"Completed Fold {i}\")\n",
    "    print(f\"    Accuracy={accuracyScores[i]}    Recall={recallScores[i]}    FScore={f1Scores[i]}\")\n",
    "\n",
    "    ## Calculate the mean scores across all folds\n",
    "mean_score = sum(accuracyScores) / len(accuracyScores)\n",
    "print(\"Mean accuracy score:\", mean_score)\n",
    "\n",
    "mean_score = sum(f1Scores) / len(f1Scores)\n",
    "print(\"Mean f1 score:\", mean_score)\n",
    "\n",
    "mean_score = sum(precisionScores) / len(precisionScores)\n",
    "print(\"Mean precision score:\", mean_score)\n",
    "\n",
    "mean_score = sum(recallScores) / len(recallScores)\n",
    "print(\"Mean recall score:\", mean_score)"
   ]
  },
  {
   "cell_type": "markdown",
   "metadata": {},
   "source": [
    "Retraining on the best:"
   ]
  },
  {
   "cell_type": "code",
   "execution_count": 86,
   "metadata": {},
   "outputs": [],
   "source": [
    "### feature scaling\n",
    "xScaler = StandardScaler()\n",
    "xColNames = xLocalTrain.columns.values.tolist()\n",
    "# train the scaler and apply it to the training set\n",
    "xTrainScaled = xScaler.fit_transform(scaled_Age_df[xColNames])\n",
    "# apply the scaling to the testing set\n",
    "xTestScaled = xScaler.transform(xTest[xColNames])"
   ]
  },
  {
   "cell_type": "code",
   "execution_count": 87,
   "metadata": {},
   "outputs": [
    {
     "data": {
      "text/html": [
       "<div>\n",
       "<style scoped>\n",
       "    .dataframe tbody tr th:only-of-type {\n",
       "        vertical-align: middle;\n",
       "    }\n",
       "\n",
       "    .dataframe tbody tr th {\n",
       "        vertical-align: top;\n",
       "    }\n",
       "\n",
       "    .dataframe thead th {\n",
       "        text-align: right;\n",
       "    }\n",
       "</style>\n",
       "<table border=\"1\" class=\"dataframe\">\n",
       "  <thead>\n",
       "    <tr style=\"text-align: right;\">\n",
       "      <th></th>\n",
       "      <th>model</th>\n",
       "      <th>accuracy</th>\n",
       "      <th>fScore</th>\n",
       "      <th>precision</th>\n",
       "      <th>recall</th>\n",
       "    </tr>\n",
       "  </thead>\n",
       "  <tbody>\n",
       "    <tr>\n",
       "      <th>0</th>\n",
       "      <td>Neural Network</td>\n",
       "      <td>0.615385</td>\n",
       "      <td>0.761905</td>\n",
       "      <td>0.615385</td>\n",
       "      <td>1.0</td>\n",
       "    </tr>\n",
       "    <tr>\n",
       "      <th>1</th>\n",
       "      <td>SVM</td>\n",
       "      <td>0.615385</td>\n",
       "      <td>0.761905</td>\n",
       "      <td>0.615385</td>\n",
       "      <td>1.0</td>\n",
       "    </tr>\n",
       "  </tbody>\n",
       "</table>\n",
       "</div>"
      ],
      "text/plain": [
       "            model  accuracy    fScore  precision  recall\n",
       "0  Neural Network  0.615385  0.761905   0.615385     1.0\n",
       "1             SVM  0.615385  0.761905   0.615385     1.0"
      ]
     },
     "execution_count": 87,
     "metadata": {},
     "output_type": "execute_result"
    }
   ],
   "source": [
    "################ \n",
    "# Neural Net\n",
    "################\n",
    "clf = MLPClassifier(**mlpParams)\n",
    "clf.fit(xTrainScaled, yTrain)\n",
    "\n",
    "preds = clf.predict(xTestScaled)\n",
    "\n",
    "nnAccuracy = accuracy_score(yTest, preds)\n",
    "nnFScore = f1_score(yTest, preds)\n",
    "nnPrecision = precision_score(yTest, preds)\n",
    "nnRecall = recall_score(yTest, preds)\n",
    "\n",
    "\n",
    "################ \n",
    "# SVM\n",
    "################\n",
    "\n",
    "clf = SVC(**svmParams)\n",
    "clf.fit(xTrainScaled, yTrain)\n",
    "\n",
    "preds = clf.predict(xTestScaled)\n",
    "\n",
    "svmAccuracy = accuracy_score(yTest, preds)\n",
    "svmFScore = f1_score(yTest, preds)\n",
    "svmPrecision = precision_score(yTest, preds)\n",
    "svmRecall = recall_score(yTest, preds)\n",
    "\n",
    "scoreDict = {\"model\" : [\"Neural Network\", \"SVM\"],\n",
    "            \"accuracy\" : [nnAccuracy, svmAccuracy],\n",
    "            \"fScore\" : [nnFScore, svmFScore],\n",
    "            \"precision\" : [nnPrecision, svmPrecision],\n",
    "            \"recall\" : [nnRecall, svmRecall]}\n",
    "\n",
    "resultsDF = pd.DataFrame.from_dict(scoreDict)\n",
    "\n",
    "resultsDF"
   ]
  },
  {
   "cell_type": "code",
   "execution_count": null,
   "metadata": {},
   "outputs": [],
   "source": []
  }
 ],
 "metadata": {
  "kernelspec": {
   "display_name": "base",
   "language": "python",
   "name": "python3"
  },
  "language_info": {
   "codemirror_mode": {
    "name": "ipython",
    "version": 3
   },
   "file_extension": ".py",
   "mimetype": "text/x-python",
   "name": "python",
   "nbconvert_exporter": "python",
   "pygments_lexer": "ipython3",
   "version": "3.11.5"
  }
 },
 "nbformat": 4,
 "nbformat_minor": 2
}
